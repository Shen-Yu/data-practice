{
 "nbformat": 4,
 "nbformat_minor": 2,
 "metadata": {
  "language_info": {
   "name": "python",
   "codemirror_mode": {
    "name": "ipython",
    "version": 3
   },
   "version": "3.7.6-final"
  },
  "orig_nbformat": 2,
  "file_extension": ".py",
  "mimetype": "text/x-python",
  "name": "python",
  "npconvert_exporter": "python",
  "pygments_lexer": "ipython3",
  "version": 3,
  "kernelspec": {
   "name": "python3",
   "display_name": "Python 3"
  }
 },
 "cells": [
  {
   "cell_type": "code",
   "execution_count": 147,
   "metadata": {},
   "outputs": [],
   "source": [
    "import pandas as pd \n",
    "import numpy as np\n",
    "import matplotlib.pyplot as plt \n",
    "import seaborn as sns\n",
    "\n",
    "df=pd.read_json('./data.json',encoding='utf-8')\n",
    ""
   ]
  },
  {
   "cell_type": "code",
   "execution_count": 148,
   "metadata": {},
   "outputs": [
    {
     "output_type": "stream",
     "name": "stdout",
     "text": "<class 'pandas.core.frame.DataFrame'>\nRangeIndex: 4126 entries, 0 to 4125\nData columns (total 12 columns):\n #   Column          Non-Null Count  Dtype         \n---  ------          --------------  -----         \n 0   stockCode       4126 non-null   int64         \n 1   stockName       3956 non-null   object        \n 2   industry        3903 non-null   object        \n 3   d_pe_ttm        4126 non-null   float64       \n 4   pb_wo_gw        4126 non-null   float64       \n 5   ps_ttm          4126 non-null   float64       \n 6   d_pe_ttm_pos20  4126 non-null   float64       \n 7   pb_wo_gw_pos20  4126 non-null   float64       \n 8   ps_ttm_pos20    4126 non-null   float64       \n 9   ey              4126 non-null   object        \n 10  update_date     4126 non-null   datetime64[ns]\n 11  fenweidianSum   4126 non-null   object        \ndtypes: datetime64[ns](1), float64(6), int64(1), object(4)\nmemory usage: 386.9+ KB\n"
    }
   ],
   "source": [
    "# 数据类型转换\n",
    "df['d_pe_ttm_pos20']=df['d_pe_ttm_pos20'].str.replace('%', '').astype('float')\n",
    "\n",
    "df['pb_wo_gw_pos20']=df['pb_wo_gw_pos20'].str.replace('%','').astype(np.float64)\n",
    "\n",
    "\n",
    "df['ps_ttm_pos20']=df['ps_ttm_pos20'].apply(lambda x: x.replace('%','')).astype('float')\n",
    "\n",
    "df['update_date']=pd.to_datetime(df['update_date'])\n",
    "\n",
    "df.info()\n",
    ""
   ]
  },
  {
   "cell_type": "code",
   "execution_count": 149,
   "metadata": {},
   "outputs": [
    {
     "output_type": "execute_result",
     "data": {
      "text/plain": "    height  weight  smoker  gender  age   color\n0      178      48    True       1   63   black\n1      163      52   False       0   78   white\n2      152      78    True       1   44   white\n3      167      48    True       1   58   black\n4      151      53   False       1   66  yellow\n..     ...     ...     ...     ...  ...     ...\n95     155      76   False       1   63   white\n96     157      82    True       1   45   white\n97     157      85   False       0   58  yellow\n98     152      65   False       0   39  yellow\n99     166      79    True       1   88   white\n\n[100 rows x 6 columns]",
      "text/html": "<div>\n<style scoped>\n    .dataframe tbody tr th:only-of-type {\n        vertical-align: middle;\n    }\n\n    .dataframe tbody tr th {\n        vertical-align: top;\n    }\n\n    .dataframe thead th {\n        text-align: right;\n    }\n</style>\n<table border=\"1\" class=\"dataframe\">\n  <thead>\n    <tr style=\"text-align: right;\">\n      <th></th>\n      <th>height</th>\n      <th>weight</th>\n      <th>smoker</th>\n      <th>gender</th>\n      <th>age</th>\n      <th>color</th>\n    </tr>\n  </thead>\n  <tbody>\n    <tr>\n      <th>0</th>\n      <td>178</td>\n      <td>48</td>\n      <td>True</td>\n      <td>1</td>\n      <td>63</td>\n      <td>black</td>\n    </tr>\n    <tr>\n      <th>1</th>\n      <td>163</td>\n      <td>52</td>\n      <td>False</td>\n      <td>0</td>\n      <td>78</td>\n      <td>white</td>\n    </tr>\n    <tr>\n      <th>2</th>\n      <td>152</td>\n      <td>78</td>\n      <td>True</td>\n      <td>1</td>\n      <td>44</td>\n      <td>white</td>\n    </tr>\n    <tr>\n      <th>3</th>\n      <td>167</td>\n      <td>48</td>\n      <td>True</td>\n      <td>1</td>\n      <td>58</td>\n      <td>black</td>\n    </tr>\n    <tr>\n      <th>4</th>\n      <td>151</td>\n      <td>53</td>\n      <td>False</td>\n      <td>1</td>\n      <td>66</td>\n      <td>yellow</td>\n    </tr>\n    <tr>\n      <th>...</th>\n      <td>...</td>\n      <td>...</td>\n      <td>...</td>\n      <td>...</td>\n      <td>...</td>\n      <td>...</td>\n    </tr>\n    <tr>\n      <th>95</th>\n      <td>155</td>\n      <td>76</td>\n      <td>False</td>\n      <td>1</td>\n      <td>63</td>\n      <td>white</td>\n    </tr>\n    <tr>\n      <th>96</th>\n      <td>157</td>\n      <td>82</td>\n      <td>True</td>\n      <td>1</td>\n      <td>45</td>\n      <td>white</td>\n    </tr>\n    <tr>\n      <th>97</th>\n      <td>157</td>\n      <td>85</td>\n      <td>False</td>\n      <td>0</td>\n      <td>58</td>\n      <td>yellow</td>\n    </tr>\n    <tr>\n      <th>98</th>\n      <td>152</td>\n      <td>65</td>\n      <td>False</td>\n      <td>0</td>\n      <td>39</td>\n      <td>yellow</td>\n    </tr>\n    <tr>\n      <th>99</th>\n      <td>166</td>\n      <td>79</td>\n      <td>True</td>\n      <td>1</td>\n      <td>88</td>\n      <td>white</td>\n    </tr>\n  </tbody>\n</table>\n<p>100 rows × 6 columns</p>\n</div>"
     },
     "metadata": {},
     "execution_count": 149
    }
   ],
   "source": [
    "# map, apply, applymap\n",
    "\n",
    "boolean=[True,False]\n",
    "gender=[\"男\",\"女\"]\n",
    "color=[\"white\",\"black\",\"yellow\"]\n",
    "data=pd.DataFrame({\n",
    "    \"height\":np.random.randint(150,190,100),\n",
    "    \"weight\":np.random.randint(40,90,100),\n",
    "    \"smoker\":[boolean[x] for x in np.random.randint(0,2,100)],\n",
    "    \"gender\":[gender[x] for x in np.random.randint(0,2,100)],\n",
    "    \"age\":np.random.randint(15,90,100),\n",
    "    \"color\":[color[x] for x in np.random.randint(0,len(color),100) ]\n",
    "}\n",
    ")\n",
    "\n",
    "data['gender']=data['gender'].map({'男':1,'女':0})\n",
    "data"
   ]
  }
 ]
}