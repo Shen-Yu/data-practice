{
 "nbformat": 4,
 "nbformat_minor": 2,
 "metadata": {
  "language_info": {
   "name": "python",
   "codemirror_mode": {
    "name": "ipython",
    "version": 3
   },
   "version": "3.7.6-final"
  },
  "orig_nbformat": 2,
  "file_extension": ".py",
  "mimetype": "text/x-python",
  "name": "python",
  "npconvert_exporter": "python",
  "pygments_lexer": "ipython3",
  "version": 3,
  "kernelspec": {
   "name": "python3",
   "display_name": "Python 3"
  }
 },
 "cells": [
  {
   "cell_type": "code",
   "execution_count": 81,
   "metadata": {},
   "outputs": [
    {
     "output_type": "execute_result",
     "data": {
      "text/plain": "           date       value\n490  2020-03-31   111200.82\n491  2020-04-01    98350.25\n492  2020-04-02   296854.53\n493  2020-04-03   114370.80\n494  2020-04-07   716904.13\n495  2020-04-08  -100349.32\n496  2020-04-14   584457.74\n497  2020-04-15   171480.21\n498  2020-04-16   283977.47\n499  2020-04-17   574997.34",
      "text/html": "<div>\n<style scoped>\n    .dataframe tbody tr th:only-of-type {\n        vertical-align: middle;\n    }\n\n    .dataframe tbody tr th {\n        vertical-align: top;\n    }\n\n    .dataframe thead th {\n        text-align: right;\n    }\n</style>\n<table border=\"1\" class=\"dataframe\">\n  <thead>\n    <tr style=\"text-align: right;\">\n      <th></th>\n      <th>date</th>\n      <th>value</th>\n    </tr>\n  </thead>\n  <tbody>\n    <tr>\n      <th>490</th>\n      <td>2020-03-31</td>\n      <td>111200.82</td>\n    </tr>\n    <tr>\n      <th>491</th>\n      <td>2020-04-01</td>\n      <td>98350.25</td>\n    </tr>\n    <tr>\n      <th>492</th>\n      <td>2020-04-02</td>\n      <td>296854.53</td>\n    </tr>\n    <tr>\n      <th>493</th>\n      <td>2020-04-03</td>\n      <td>114370.80</td>\n    </tr>\n    <tr>\n      <th>494</th>\n      <td>2020-04-07</td>\n      <td>716904.13</td>\n    </tr>\n    <tr>\n      <th>495</th>\n      <td>2020-04-08</td>\n      <td>-100349.32</td>\n    </tr>\n    <tr>\n      <th>496</th>\n      <td>2020-04-14</td>\n      <td>584457.74</td>\n    </tr>\n    <tr>\n      <th>497</th>\n      <td>2020-04-15</td>\n      <td>171480.21</td>\n    </tr>\n    <tr>\n      <th>498</th>\n      <td>2020-04-16</td>\n      <td>283977.47</td>\n    </tr>\n    <tr>\n      <th>499</th>\n      <td>2020-04-17</td>\n      <td>574997.34</td>\n    </tr>\n  </tbody>\n</table>\n</div>"
     },
     "metadata": {},
     "execution_count": 81
    }
   ],
   "source": [
    "import numpy as np\n",
    "import pandas as pd \n",
    "from matplotlib import pyplot as plt\n",
    "import seaborn as sns\n",
    "import akshare as ak \n",
    "\n",
    "sh_money = ak.stock_em_hsgt_north_net_flow_in(indicator=\"沪股通\")\n",
    "sz_money=ak.stock_em_hsgt_north_net_flow_in(indicator=\"深股通\")\n",
    "sh_sz_money=ak.stock_em_hsgt_north_net_flow_in(indicator=\"深股通\")\n",
    "\n",
    "sh_money=sh_money.tail(10)\n",
    "sh_money"
   ]
  },
  {
   "cell_type": "code",
   "execution_count": 86,
   "metadata": {},
   "outputs": [
    {
     "output_type": "execute_result",
     "data": {
      "text/plain": "date\n2020-03-31    111200.82\n2020-04-01     98350.25\n2020-04-02    296854.53\n2020-04-03    114370.80\n2020-04-07    716904.13\n2020-04-08   -100349.32\n2020-04-14    584457.74\n2020-04-15    171480.21\n2020-04-16    283977.47\n2020-04-17    574997.34\nName: value, dtype: float64"
     },
     "metadata": {},
     "execution_count": 86
    },
    {
     "output_type": "display_data",
     "data": {
      "text/plain": "<Figure size 720x432 with 0 Axes>"
     },
     "metadata": {}
    }
   ],
   "source": [
    "df=sh_money.set_index('date',drop=True,append=False).T\n",
    "plt.figure(figsize=(10,6))\n",
    "\n",
    "df=df.astype(float)\n",
    "\n",
    "df.iloc[0]\n",
    "# sns.pointplot(data=df.astype(float),label=\"shape\")\n",
    "# sh_money.index\n",
    ""
   ]
  },
  {
   "cell_type": "code",
   "execution_count": 10,
   "metadata": {},
   "outputs": [
    {
     "output_type": "execute_result",
     "data": {
      "text/plain": "['value']"
     },
     "metadata": {},
     "execution_count": 10
    }
   ],
   "source": []
  }
 ]
}