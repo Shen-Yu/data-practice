{
 "cells": [
  {
   "cell_type": "code",
   "execution_count": 8,
   "metadata": {},
   "outputs": [
    {
     "output_type": "execute_result",
     "data": {
      "text/plain": "0    1.0\n1    3.0\n2    5.0\n3    NaN\n4    6.0\n5    8.0\ndtype: float64"
     },
     "metadata": {},
     "execution_count": 8
    }
   ],
   "source": [
    "import pandas as pd\n",
    "import numpy as np\n",
    "from numpy import nan as NA\n",
    "from matplotlib import pyplot as plt\n",
    "import akshare as ak\n",
    "\n",
    "s = pd.Series([1, 3, 5, np.nan, 6, 8])\n",
    "s"
   ]
  },
  {
   "cell_type": "code",
   "execution_count": 9,
   "metadata": {},
   "outputs": [
    {
     "output_type": "execute_result",
     "data": {
      "text/plain": "                   A         B         C         D\n2013-01-01  1.923376  1.000180 -0.602922 -1.697992\n2013-01-02 -1.324065  1.113714  1.236920  0.527493\n2013-01-03  0.422448 -0.476417  0.356505  1.096552\n2013-01-04 -0.912078  0.905802 -0.817968  0.265594\n2013-01-05 -0.659788  0.233923  1.886259 -1.021380\n2013-01-06  0.201642  1.122724 -0.071453  0.283305",
      "text/html": "<div>\n<style scoped>\n    .dataframe tbody tr th:only-of-type {\n        vertical-align: middle;\n    }\n\n    .dataframe tbody tr th {\n        vertical-align: top;\n    }\n\n    .dataframe thead th {\n        text-align: right;\n    }\n</style>\n<table border=\"1\" class=\"dataframe\">\n  <thead>\n    <tr style=\"text-align: right;\">\n      <th></th>\n      <th>A</th>\n      <th>B</th>\n      <th>C</th>\n      <th>D</th>\n    </tr>\n  </thead>\n  <tbody>\n    <tr>\n      <th>2013-01-01</th>\n      <td>1.923376</td>\n      <td>1.000180</td>\n      <td>-0.602922</td>\n      <td>-1.697992</td>\n    </tr>\n    <tr>\n      <th>2013-01-02</th>\n      <td>-1.324065</td>\n      <td>1.113714</td>\n      <td>1.236920</td>\n      <td>0.527493</td>\n    </tr>\n    <tr>\n      <th>2013-01-03</th>\n      <td>0.422448</td>\n      <td>-0.476417</td>\n      <td>0.356505</td>\n      <td>1.096552</td>\n    </tr>\n    <tr>\n      <th>2013-01-04</th>\n      <td>-0.912078</td>\n      <td>0.905802</td>\n      <td>-0.817968</td>\n      <td>0.265594</td>\n    </tr>\n    <tr>\n      <th>2013-01-05</th>\n      <td>-0.659788</td>\n      <td>0.233923</td>\n      <td>1.886259</td>\n      <td>-1.021380</td>\n    </tr>\n    <tr>\n      <th>2013-01-06</th>\n      <td>0.201642</td>\n      <td>1.122724</td>\n      <td>-0.071453</td>\n      <td>0.283305</td>\n    </tr>\n  </tbody>\n</table>\n</div>"
     },
     "metadata": {},
     "execution_count": 9
    }
   ],
   "source": [
    "dates = pd.date_range('20130101', periods=6)\n",
    "df = pd.DataFrame(np.random.randn(6, 4), index=dates, columns=list('ABCD'))\n",
    "df"
   ]
  },
  {
   "cell_type": "code",
   "execution_count": 10,
   "metadata": {},
   "outputs": [
    {
     "output_type": "execute_result",
     "data": {
      "text/plain": "                   A         B         C         D\n2013-01-03  0.422448 -0.476417  0.356505  1.096552",
      "text/html": "<div>\n<style scoped>\n    .dataframe tbody tr th:only-of-type {\n        vertical-align: middle;\n    }\n\n    .dataframe tbody tr th {\n        vertical-align: top;\n    }\n\n    .dataframe thead th {\n        text-align: right;\n    }\n</style>\n<table border=\"1\" class=\"dataframe\">\n  <thead>\n    <tr style=\"text-align: right;\">\n      <th></th>\n      <th>A</th>\n      <th>B</th>\n      <th>C</th>\n      <th>D</th>\n    </tr>\n  </thead>\n  <tbody>\n    <tr>\n      <th>2013-01-03</th>\n      <td>0.422448</td>\n      <td>-0.476417</td>\n      <td>0.356505</td>\n      <td>1.096552</td>\n    </tr>\n  </tbody>\n</table>\n</div>"
     },
     "metadata": {},
     "execution_count": 10
    }
   ],
   "source": [
    "df[(df.A>=0.1)&(df.D>1)]"
   ]
  },
  {
   "cell_type": "code",
   "execution_count": 11,
   "metadata": {},
   "outputs": [
    {
     "output_type": "execute_result",
     "data": {
      "text/plain": "                   A         B         C         D\n2013-01-01  1.923376  1.000180 -0.602922 -1.697992\n2013-01-03  0.422448 -0.476417  0.356505  1.096552\n2013-01-06  0.201642  1.122724 -0.071453  0.283305\n2013-01-05 -0.659788  0.233923  1.886259 -1.021380\n2013-01-04 -0.912078  0.905802 -0.817968  0.265594\n2013-01-02 -1.324065  1.113714  1.236920  0.527493",
      "text/html": "<div>\n<style scoped>\n    .dataframe tbody tr th:only-of-type {\n        vertical-align: middle;\n    }\n\n    .dataframe tbody tr th {\n        vertical-align: top;\n    }\n\n    .dataframe thead th {\n        text-align: right;\n    }\n</style>\n<table border=\"1\" class=\"dataframe\">\n  <thead>\n    <tr style=\"text-align: right;\">\n      <th></th>\n      <th>A</th>\n      <th>B</th>\n      <th>C</th>\n      <th>D</th>\n    </tr>\n  </thead>\n  <tbody>\n    <tr>\n      <th>2013-01-01</th>\n      <td>1.923376</td>\n      <td>1.000180</td>\n      <td>-0.602922</td>\n      <td>-1.697992</td>\n    </tr>\n    <tr>\n      <th>2013-01-03</th>\n      <td>0.422448</td>\n      <td>-0.476417</td>\n      <td>0.356505</td>\n      <td>1.096552</td>\n    </tr>\n    <tr>\n      <th>2013-01-06</th>\n      <td>0.201642</td>\n      <td>1.122724</td>\n      <td>-0.071453</td>\n      <td>0.283305</td>\n    </tr>\n    <tr>\n      <th>2013-01-05</th>\n      <td>-0.659788</td>\n      <td>0.233923</td>\n      <td>1.886259</td>\n      <td>-1.021380</td>\n    </tr>\n    <tr>\n      <th>2013-01-04</th>\n      <td>-0.912078</td>\n      <td>0.905802</td>\n      <td>-0.817968</td>\n      <td>0.265594</td>\n    </tr>\n    <tr>\n      <th>2013-01-02</th>\n      <td>-1.324065</td>\n      <td>1.113714</td>\n      <td>1.236920</td>\n      <td>0.527493</td>\n    </tr>\n  </tbody>\n</table>\n</div>"
     },
     "metadata": {},
     "execution_count": 11
    }
   ],
   "source": [
    "df.sort_values([\"A\"],ascending=False)"
   ]
  },
  {
   "cell_type": "code",
   "execution_count": 12,
   "metadata": {},
   "outputs": [
    {
     "output_type": "stream",
     "name": "stdout",
     "text": "数据更新时间: 2020-04-15 09:35:44\n"
    },
    {
     "output_type": "execute_result",
     "data": {
      "text/plain": "confirm    8885.0\nsuspect       0.0\nheal       1497.0\ndead        174.0\nsevere        0.0\ninput         NaN\nName: 日本, dtype: float64"
     },
     "metadata": {},
     "execution_count": 12
    }
   ],
   "source": [
    "# 疫情数据\n",
    "covid_19_163_data=ak.covid_19_163(indicator=\"世界历史累计数据\")\n",
    "covid_19_163_data.loc['日本']"
   ]
  },
  {
   "cell_type": "code",
   "execution_count": 15,
   "metadata": {},
   "outputs": [
    {
     "output_type": "execute_result",
     "data": {
      "text/plain": "     0    1    2\n0  1.0  6.5  3.0\n1  1.0  NaN  NaN\n2  NaN  NaN  NaN\n3  NaN  6.5  3.0",
      "text/html": "<div>\n<style scoped>\n    .dataframe tbody tr th:only-of-type {\n        vertical-align: middle;\n    }\n\n    .dataframe tbody tr th {\n        vertical-align: top;\n    }\n\n    .dataframe thead th {\n        text-align: right;\n    }\n</style>\n<table border=\"1\" class=\"dataframe\">\n  <thead>\n    <tr style=\"text-align: right;\">\n      <th></th>\n      <th>0</th>\n      <th>1</th>\n      <th>2</th>\n    </tr>\n  </thead>\n  <tbody>\n    <tr>\n      <th>0</th>\n      <td>1.0</td>\n      <td>6.5</td>\n      <td>3.0</td>\n    </tr>\n    <tr>\n      <th>1</th>\n      <td>1.0</td>\n      <td>NaN</td>\n      <td>NaN</td>\n    </tr>\n    <tr>\n      <th>2</th>\n      <td>NaN</td>\n      <td>NaN</td>\n      <td>NaN</td>\n    </tr>\n    <tr>\n      <th>3</th>\n      <td>NaN</td>\n      <td>6.5</td>\n      <td>3.0</td>\n    </tr>\n  </tbody>\n</table>\n</div>"
     },
     "metadata": {},
     "execution_count": 15
    }
   ],
   "source": [
    "data = pd.DataFrame([[1., 6.5, 3.], [1., NA, NA],[NA, NA, NA], [NA, 6.5, 3.]])\n",
    "data"
   ]
  },
  {
   "cell_type": "code",
   "execution_count": 24,
   "metadata": {},
   "outputs": [
    {
     "output_type": "execute_result",
     "data": {
      "text/plain": "      0     1     2\n0  1.00  6.50  3.00\n1  1.00  1.11  1.11\n2  1.11  1.11  1.11\n3  1.11  6.50  3.00",
      "text/html": "<div>\n<style scoped>\n    .dataframe tbody tr th:only-of-type {\n        vertical-align: middle;\n    }\n\n    .dataframe tbody tr th {\n        vertical-align: top;\n    }\n\n    .dataframe thead th {\n        text-align: right;\n    }\n</style>\n<table border=\"1\" class=\"dataframe\">\n  <thead>\n    <tr style=\"text-align: right;\">\n      <th></th>\n      <th>0</th>\n      <th>1</th>\n      <th>2</th>\n    </tr>\n  </thead>\n  <tbody>\n    <tr>\n      <th>0</th>\n      <td>1.00</td>\n      <td>6.50</td>\n      <td>3.00</td>\n    </tr>\n    <tr>\n      <th>1</th>\n      <td>1.00</td>\n      <td>1.11</td>\n      <td>1.11</td>\n    </tr>\n    <tr>\n      <th>2</th>\n      <td>1.11</td>\n      <td>1.11</td>\n      <td>1.11</td>\n    </tr>\n    <tr>\n      <th>3</th>\n      <td>1.11</td>\n      <td>6.50</td>\n      <td>3.00</td>\n    </tr>\n  </tbody>\n</table>\n</div>"
     },
     "metadata": {},
     "execution_count": 24
    }
   ],
   "source": [
    "data.fillna(0,inplace=True)\n",
    "data.replace(0,1.11)"
   ]
  }
 ],
 "metadata": {
  "kernelspec": {
   "display_name": "Python 3",
   "language": "python",
   "name": "python3"
  },
  "language_info": {
   "codemirror_mode": {
    "name": "ipython",
    "version": 3
   },
   "file_extension": ".py",
   "mimetype": "text/x-python",
   "name": "python",
   "nbconvert_exporter": "python",
   "pygments_lexer": "ipython3",
   "version": "3.7.6-final"
  }
 },
 "nbformat": 4,
 "nbformat_minor": 4
}