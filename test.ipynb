{
 "cells": [
  {
   "cell_type": "code",
   "execution_count": 1,
   "metadata": {},
   "outputs": [
    {
     "output_type": "execute_result",
     "data": {
      "text/plain": "0    1.0\n1    3.0\n2    5.0\n3    NaN\n4    6.0\n5    8.0\ndtype: float64"
     },
     "metadata": {},
     "execution_count": 1
    }
   ],
   "source": [
    "import pandas as pd\n",
    "import numpy as np\n",
    "from numpy import nan as NA\n",
    "from matplotlib import pyplot as plt\n",
    "import akshare as ak\n",
    "\n",
    "s = pd.Series([1, 3, 5, np.nan, 6, 8])\n",
    "s"
   ]
  },
  {
   "cell_type": "code",
   "execution_count": 2,
   "metadata": {},
   "outputs": [
    {
     "output_type": "execute_result",
     "data": {
      "text/plain": "                   A         B         C         D\n2013-01-01  0.153877  0.066246 -1.149164 -0.282901\n2013-01-02  1.150428  1.282903 -0.766776 -1.371367\n2013-01-03  1.840322  0.340924 -0.486375 -0.610625\n2013-01-04 -0.966711  0.629337  1.457367 -0.032626\n2013-01-05 -1.222701 -1.027223 -1.070358  1.328191\n2013-01-06  1.225570  1.191280 -0.846377 -0.608146",
      "text/html": "<div>\n<style scoped>\n    .dataframe tbody tr th:only-of-type {\n        vertical-align: middle;\n    }\n\n    .dataframe tbody tr th {\n        vertical-align: top;\n    }\n\n    .dataframe thead th {\n        text-align: right;\n    }\n</style>\n<table border=\"1\" class=\"dataframe\">\n  <thead>\n    <tr style=\"text-align: right;\">\n      <th></th>\n      <th>A</th>\n      <th>B</th>\n      <th>C</th>\n      <th>D</th>\n    </tr>\n  </thead>\n  <tbody>\n    <tr>\n      <th>2013-01-01</th>\n      <td>0.153877</td>\n      <td>0.066246</td>\n      <td>-1.149164</td>\n      <td>-0.282901</td>\n    </tr>\n    <tr>\n      <th>2013-01-02</th>\n      <td>1.150428</td>\n      <td>1.282903</td>\n      <td>-0.766776</td>\n      <td>-1.371367</td>\n    </tr>\n    <tr>\n      <th>2013-01-03</th>\n      <td>1.840322</td>\n      <td>0.340924</td>\n      <td>-0.486375</td>\n      <td>-0.610625</td>\n    </tr>\n    <tr>\n      <th>2013-01-04</th>\n      <td>-0.966711</td>\n      <td>0.629337</td>\n      <td>1.457367</td>\n      <td>-0.032626</td>\n    </tr>\n    <tr>\n      <th>2013-01-05</th>\n      <td>-1.222701</td>\n      <td>-1.027223</td>\n      <td>-1.070358</td>\n      <td>1.328191</td>\n    </tr>\n    <tr>\n      <th>2013-01-06</th>\n      <td>1.225570</td>\n      <td>1.191280</td>\n      <td>-0.846377</td>\n      <td>-0.608146</td>\n    </tr>\n  </tbody>\n</table>\n</div>"
     },
     "metadata": {},
     "execution_count": 2
    }
   ],
   "source": [
    "dates = pd.date_range('20130101', periods=6)\n",
    "df = pd.DataFrame(np.random.randn(6, 4), index=dates, columns=list('ABCD'))\n",
    "df"
   ]
  },
  {
   "cell_type": "code",
   "execution_count": 3,
   "metadata": {},
   "outputs": [
    {
     "output_type": "execute_result",
     "data": {
      "text/plain": "Empty DataFrame\nColumns: [A, B, C, D]\nIndex: []",
      "text/html": "<div>\n<style scoped>\n    .dataframe tbody tr th:only-of-type {\n        vertical-align: middle;\n    }\n\n    .dataframe tbody tr th {\n        vertical-align: top;\n    }\n\n    .dataframe thead th {\n        text-align: right;\n    }\n</style>\n<table border=\"1\" class=\"dataframe\">\n  <thead>\n    <tr style=\"text-align: right;\">\n      <th></th>\n      <th>A</th>\n      <th>B</th>\n      <th>C</th>\n      <th>D</th>\n    </tr>\n  </thead>\n  <tbody>\n  </tbody>\n</table>\n</div>"
     },
     "metadata": {},
     "execution_count": 3
    }
   ],
   "source": [
    "df[(df.A>=0.1)&(df.D>1)]"
   ]
  },
  {
   "cell_type": "code",
   "execution_count": 4,
   "metadata": {},
   "outputs": [
    {
     "output_type": "execute_result",
     "data": {
      "text/plain": "                   A         B         C         D\n2013-01-03  1.840322  0.340924 -0.486375 -0.610625\n2013-01-06  1.225570  1.191280 -0.846377 -0.608146\n2013-01-02  1.150428  1.282903 -0.766776 -1.371367\n2013-01-01  0.153877  0.066246 -1.149164 -0.282901\n2013-01-04 -0.966711  0.629337  1.457367 -0.032626\n2013-01-05 -1.222701 -1.027223 -1.070358  1.328191",
      "text/html": "<div>\n<style scoped>\n    .dataframe tbody tr th:only-of-type {\n        vertical-align: middle;\n    }\n\n    .dataframe tbody tr th {\n        vertical-align: top;\n    }\n\n    .dataframe thead th {\n        text-align: right;\n    }\n</style>\n<table border=\"1\" class=\"dataframe\">\n  <thead>\n    <tr style=\"text-align: right;\">\n      <th></th>\n      <th>A</th>\n      <th>B</th>\n      <th>C</th>\n      <th>D</th>\n    </tr>\n  </thead>\n  <tbody>\n    <tr>\n      <th>2013-01-03</th>\n      <td>1.840322</td>\n      <td>0.340924</td>\n      <td>-0.486375</td>\n      <td>-0.610625</td>\n    </tr>\n    <tr>\n      <th>2013-01-06</th>\n      <td>1.225570</td>\n      <td>1.191280</td>\n      <td>-0.846377</td>\n      <td>-0.608146</td>\n    </tr>\n    <tr>\n      <th>2013-01-02</th>\n      <td>1.150428</td>\n      <td>1.282903</td>\n      <td>-0.766776</td>\n      <td>-1.371367</td>\n    </tr>\n    <tr>\n      <th>2013-01-01</th>\n      <td>0.153877</td>\n      <td>0.066246</td>\n      <td>-1.149164</td>\n      <td>-0.282901</td>\n    </tr>\n    <tr>\n      <th>2013-01-04</th>\n      <td>-0.966711</td>\n      <td>0.629337</td>\n      <td>1.457367</td>\n      <td>-0.032626</td>\n    </tr>\n    <tr>\n      <th>2013-01-05</th>\n      <td>-1.222701</td>\n      <td>-1.027223</td>\n      <td>-1.070358</td>\n      <td>1.328191</td>\n    </tr>\n  </tbody>\n</table>\n</div>"
     },
     "metadata": {},
     "execution_count": 4
    }
   ],
   "source": [
    "df.sort_values([\"A\"],ascending=False)"
   ]
  },
  {
   "cell_type": "code",
   "execution_count": 5,
   "metadata": {},
   "outputs": [
    {
     "output_type": "stream",
     "name": "stdout",
     "text": "数据更新时间: 2020-04-20 14:28:00\n"
    },
    {
     "output_type": "execute_result",
     "data": {
      "text/plain": "confirm    11522.0\nsuspect        0.0\nheal        1810.0\ndead         238.0\nsevere         0.0\ninput          NaN\nName: 日本, dtype: float64"
     },
     "metadata": {},
     "execution_count": 5
    }
   ],
   "source": [
    "# 疫情数据\n",
    "covid_19_163_data=ak.covid_19_163(indicator=\"世界历史累计数据\")\n",
    "covid_19_163_data.loc['日本']"
   ]
  },
  {
   "cell_type": "code",
   "execution_count": 6,
   "metadata": {},
   "outputs": [
    {
     "output_type": "execute_result",
     "data": {
      "text/plain": "     0    1    2\n0  1.0  6.5  3.0\n1  1.0  NaN  NaN\n2  NaN  NaN  NaN\n3  NaN  6.5  3.0",
      "text/html": "<div>\n<style scoped>\n    .dataframe tbody tr th:only-of-type {\n        vertical-align: middle;\n    }\n\n    .dataframe tbody tr th {\n        vertical-align: top;\n    }\n\n    .dataframe thead th {\n        text-align: right;\n    }\n</style>\n<table border=\"1\" class=\"dataframe\">\n  <thead>\n    <tr style=\"text-align: right;\">\n      <th></th>\n      <th>0</th>\n      <th>1</th>\n      <th>2</th>\n    </tr>\n  </thead>\n  <tbody>\n    <tr>\n      <th>0</th>\n      <td>1.0</td>\n      <td>6.5</td>\n      <td>3.0</td>\n    </tr>\n    <tr>\n      <th>1</th>\n      <td>1.0</td>\n      <td>NaN</td>\n      <td>NaN</td>\n    </tr>\n    <tr>\n      <th>2</th>\n      <td>NaN</td>\n      <td>NaN</td>\n      <td>NaN</td>\n    </tr>\n    <tr>\n      <th>3</th>\n      <td>NaN</td>\n      <td>6.5</td>\n      <td>3.0</td>\n    </tr>\n  </tbody>\n</table>\n</div>"
     },
     "metadata": {},
     "execution_count": 6
    }
   ],
   "source": [
    "data = pd.DataFrame([[1., 6.5, 3.], [1., NA, NA],[NA, NA, NA], [NA, 6.5, 3.]])\n",
    "data"
   ]
  },
  {
   "cell_type": "code",
   "execution_count": 7,
   "metadata": {},
   "outputs": [
    {
     "output_type": "stream",
     "name": "stdout",
     "text": "<class 'pandas.core.frame.DataFrame'>\nRangeIndex: 4 entries, 0 to 3\nData columns (total 3 columns):\n #   Column  Non-Null Count  Dtype  \n---  ------  --------------  -----  \n 0   0       4 non-null      float64\n 1   1       4 non-null      float64\n 2   2       4 non-null      float64\ndtypes: float64(3)\nmemory usage: 224.0 bytes\n"
    }
   ],
   "source": [
    "data.fillna(0,inplace=True)\n",
    "data.replace(0,1.11)\n"
   ]
  }
 ],
 "metadata": {
  "kernelspec": {
   "display_name": "Python 3",
   "language": "python",
   "name": "python3"
  },
  "language_info": {
   "codemirror_mode": {
    "name": "ipython",
    "version": 3
   },
   "file_extension": ".py",
   "mimetype": "text/x-python",
   "name": "python",
   "nbconvert_exporter": "python",
   "pygments_lexer": "ipython3",
   "version": "3.7.6-final"
  }
 },
 "nbformat": 4,
 "nbformat_minor": 4
}