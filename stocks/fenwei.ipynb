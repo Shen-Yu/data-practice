{
 "cells": [
  {
   "cell_type": "code",
   "execution_count": 71,
   "metadata": {},
   "outputs": [
    {
     "output_type": "error",
     "ename": "TypeError",
     "evalue": "'<' not supported between instances of 'str' and 'int'",
     "traceback": [
      "\u001b[1;31m---------------------------------------------------------------------------\u001b[0m",
      "\u001b[1;31mTypeError\u001b[0m                                 Traceback (most recent call last)",
      "\u001b[1;32m<ipython-input-71-ca32d4107d20>\u001b[0m in \u001b[0;36m<module>\u001b[1;34m\u001b[0m\n\u001b[0;32m     15\u001b[0m     \u001b[0mdf\u001b[0m\u001b[1;33m[\u001b[0m\u001b[0mcol\u001b[0m\u001b[1;33m]\u001b[0m\u001b[1;33m.\u001b[0m\u001b[0mastype\u001b[0m\u001b[1;33m(\u001b[0m\u001b[1;34m'float'\u001b[0m\u001b[1;33m)\u001b[0m\u001b[1;33m\u001b[0m\u001b[1;33m\u001b[0m\u001b[0m\n\u001b[0;32m     16\u001b[0m \u001b[1;33m\u001b[0m\u001b[0m\n\u001b[1;32m---> 17\u001b[1;33m \u001b[0mdf\u001b[0m\u001b[1;33m[\u001b[0m\u001b[0mdf\u001b[0m\u001b[1;33m[\u001b[0m\u001b[1;34m'd_pe_ttm'\u001b[0m\u001b[1;33m]\u001b[0m\u001b[1;33m<\u001b[0m\u001b[1;36m10\u001b[0m\u001b[1;33m]\u001b[0m\u001b[1;33m\u001b[0m\u001b[1;33m\u001b[0m\u001b[0m\n\u001b[0m\u001b[0;32m     18\u001b[0m \u001b[1;31m# df\u001b[0m\u001b[1;33m\u001b[0m\u001b[1;33m\u001b[0m\u001b[1;33m\u001b[0m\u001b[0m\n\u001b[0;32m     19\u001b[0m \u001b[1;31m#df.info()\u001b[0m\u001b[1;33m\u001b[0m\u001b[1;33m\u001b[0m\u001b[1;33m\u001b[0m\u001b[0m\n",
      "\u001b[1;32m~\\anaconda3\\lib\\site-packages\\pandas\\core\\ops\\common.py\u001b[0m in \u001b[0;36mnew_method\u001b[1;34m(self, other)\u001b[0m\n\u001b[0;32m     62\u001b[0m         \u001b[0mother\u001b[0m \u001b[1;33m=\u001b[0m \u001b[0mitem_from_zerodim\u001b[0m\u001b[1;33m(\u001b[0m\u001b[0mother\u001b[0m\u001b[1;33m)\u001b[0m\u001b[1;33m\u001b[0m\u001b[1;33m\u001b[0m\u001b[0m\n\u001b[0;32m     63\u001b[0m \u001b[1;33m\u001b[0m\u001b[0m\n\u001b[1;32m---> 64\u001b[1;33m         \u001b[1;32mreturn\u001b[0m \u001b[0mmethod\u001b[0m\u001b[1;33m(\u001b[0m\u001b[0mself\u001b[0m\u001b[1;33m,\u001b[0m \u001b[0mother\u001b[0m\u001b[1;33m)\u001b[0m\u001b[1;33m\u001b[0m\u001b[1;33m\u001b[0m\u001b[0m\n\u001b[0m\u001b[0;32m     65\u001b[0m \u001b[1;33m\u001b[0m\u001b[0m\n\u001b[0;32m     66\u001b[0m     \u001b[1;32mreturn\u001b[0m \u001b[0mnew_method\u001b[0m\u001b[1;33m\u001b[0m\u001b[1;33m\u001b[0m\u001b[0m\n",
      "\u001b[1;32m~\\anaconda3\\lib\\site-packages\\pandas\\core\\ops\\__init__.py\u001b[0m in \u001b[0;36mwrapper\u001b[1;34m(self, other)\u001b[0m\n\u001b[0;32m    524\u001b[0m         \u001b[0mrvalues\u001b[0m \u001b[1;33m=\u001b[0m \u001b[0mextract_array\u001b[0m\u001b[1;33m(\u001b[0m\u001b[0mother\u001b[0m\u001b[1;33m,\u001b[0m \u001b[0mextract_numpy\u001b[0m\u001b[1;33m=\u001b[0m\u001b[1;32mTrue\u001b[0m\u001b[1;33m)\u001b[0m\u001b[1;33m\u001b[0m\u001b[1;33m\u001b[0m\u001b[0m\n\u001b[0;32m    525\u001b[0m \u001b[1;33m\u001b[0m\u001b[0m\n\u001b[1;32m--> 526\u001b[1;33m         \u001b[0mres_values\u001b[0m \u001b[1;33m=\u001b[0m \u001b[0mcomparison_op\u001b[0m\u001b[1;33m(\u001b[0m\u001b[0mlvalues\u001b[0m\u001b[1;33m,\u001b[0m \u001b[0mrvalues\u001b[0m\u001b[1;33m,\u001b[0m \u001b[0mop\u001b[0m\u001b[1;33m)\u001b[0m\u001b[1;33m\u001b[0m\u001b[1;33m\u001b[0m\u001b[0m\n\u001b[0m\u001b[0;32m    527\u001b[0m \u001b[1;33m\u001b[0m\u001b[0m\n\u001b[0;32m    528\u001b[0m         \u001b[1;32mreturn\u001b[0m \u001b[0m_construct_result\u001b[0m\u001b[1;33m(\u001b[0m\u001b[0mself\u001b[0m\u001b[1;33m,\u001b[0m \u001b[0mres_values\u001b[0m\u001b[1;33m,\u001b[0m \u001b[0mindex\u001b[0m\u001b[1;33m=\u001b[0m\u001b[0mself\u001b[0m\u001b[1;33m.\u001b[0m\u001b[0mindex\u001b[0m\u001b[1;33m,\u001b[0m \u001b[0mname\u001b[0m\u001b[1;33m=\u001b[0m\u001b[0mres_name\u001b[0m\u001b[1;33m)\u001b[0m\u001b[1;33m\u001b[0m\u001b[1;33m\u001b[0m\u001b[0m\n",
      "\u001b[1;32m~\\anaconda3\\lib\\site-packages\\pandas\\core\\ops\\array_ops.py\u001b[0m in \u001b[0;36mcomparison_op\u001b[1;34m(left, right, op)\u001b[0m\n\u001b[0;32m    245\u001b[0m \u001b[1;33m\u001b[0m\u001b[0m\n\u001b[0;32m    246\u001b[0m     \u001b[1;32melif\u001b[0m \u001b[0mis_object_dtype\u001b[0m\u001b[1;33m(\u001b[0m\u001b[0mlvalues\u001b[0m\u001b[1;33m.\u001b[0m\u001b[0mdtype\u001b[0m\u001b[1;33m)\u001b[0m\u001b[1;33m:\u001b[0m\u001b[1;33m\u001b[0m\u001b[1;33m\u001b[0m\u001b[0m\n\u001b[1;32m--> 247\u001b[1;33m         \u001b[0mres_values\u001b[0m \u001b[1;33m=\u001b[0m \u001b[0mcomp_method_OBJECT_ARRAY\u001b[0m\u001b[1;33m(\u001b[0m\u001b[0mop\u001b[0m\u001b[1;33m,\u001b[0m \u001b[0mlvalues\u001b[0m\u001b[1;33m,\u001b[0m \u001b[0mrvalues\u001b[0m\u001b[1;33m)\u001b[0m\u001b[1;33m\u001b[0m\u001b[1;33m\u001b[0m\u001b[0m\n\u001b[0m\u001b[0;32m    248\u001b[0m \u001b[1;33m\u001b[0m\u001b[0m\n\u001b[0;32m    249\u001b[0m     \u001b[1;32melse\u001b[0m\u001b[1;33m:\u001b[0m\u001b[1;33m\u001b[0m\u001b[1;33m\u001b[0m\u001b[0m\n",
      "\u001b[1;32m~\\anaconda3\\lib\\site-packages\\pandas\\core\\ops\\array_ops.py\u001b[0m in \u001b[0;36mcomp_method_OBJECT_ARRAY\u001b[1;34m(op, x, y)\u001b[0m\n\u001b[0;32m     55\u001b[0m         \u001b[0mresult\u001b[0m \u001b[1;33m=\u001b[0m \u001b[0mlibops\u001b[0m\u001b[1;33m.\u001b[0m\u001b[0mvec_compare\u001b[0m\u001b[1;33m(\u001b[0m\u001b[0mx\u001b[0m\u001b[1;33m.\u001b[0m\u001b[0mravel\u001b[0m\u001b[1;33m(\u001b[0m\u001b[1;33m)\u001b[0m\u001b[1;33m,\u001b[0m \u001b[0my\u001b[0m\u001b[1;33m,\u001b[0m \u001b[0mop\u001b[0m\u001b[1;33m)\u001b[0m\u001b[1;33m\u001b[0m\u001b[1;33m\u001b[0m\u001b[0m\n\u001b[0;32m     56\u001b[0m     \u001b[1;32melse\u001b[0m\u001b[1;33m:\u001b[0m\u001b[1;33m\u001b[0m\u001b[1;33m\u001b[0m\u001b[0m\n\u001b[1;32m---> 57\u001b[1;33m         \u001b[0mresult\u001b[0m \u001b[1;33m=\u001b[0m \u001b[0mlibops\u001b[0m\u001b[1;33m.\u001b[0m\u001b[0mscalar_compare\u001b[0m\u001b[1;33m(\u001b[0m\u001b[0mx\u001b[0m\u001b[1;33m.\u001b[0m\u001b[0mravel\u001b[0m\u001b[1;33m(\u001b[0m\u001b[1;33m)\u001b[0m\u001b[1;33m,\u001b[0m \u001b[0my\u001b[0m\u001b[1;33m,\u001b[0m \u001b[0mop\u001b[0m\u001b[1;33m)\u001b[0m\u001b[1;33m\u001b[0m\u001b[1;33m\u001b[0m\u001b[0m\n\u001b[0m\u001b[0;32m     58\u001b[0m     \u001b[1;32mreturn\u001b[0m \u001b[0mresult\u001b[0m\u001b[1;33m.\u001b[0m\u001b[0mreshape\u001b[0m\u001b[1;33m(\u001b[0m\u001b[0mx\u001b[0m\u001b[1;33m.\u001b[0m\u001b[0mshape\u001b[0m\u001b[1;33m)\u001b[0m\u001b[1;33m\u001b[0m\u001b[1;33m\u001b[0m\u001b[0m\n\u001b[0;32m     59\u001b[0m \u001b[1;33m\u001b[0m\u001b[0m\n",
      "\u001b[1;32mpandas\\_libs\\ops.pyx\u001b[0m in \u001b[0;36mpandas._libs.ops.scalar_compare\u001b[1;34m()\u001b[0m\n",
      "\u001b[1;31mTypeError\u001b[0m: '<' not supported between instances of 'str' and 'int'"
     ]
    }
   ],
   "source": [
    "import requests\n",
    "import pandas as pd \n",
    "import numpy as np\n",
    "import matplotlib.pyplot as plt \n",
    "import seaborn as sns\n",
    "import requests as req\n",
    "import json\n",
    "\n",
    "\n",
    "data=http.get('http://www.06th.com/40-fenweidian-ReadDB.php?dbtbname=stockreport&search=&sort=fenweidianSum&order=asc')\n",
    "df=pd.DataFrame(data.json(),dtype = np.str)\n",
    "cols_to_change = ['d_pe_ttm','pb_wo_gw','d_pe_ttm_pos20','pb_wo_gw_pos20','ps_ttm_pos20','ps_ttm_pos20','ey','fenweidianSum']\n",
    "for col in cols_to_change:\n",
    "    df[col] = df[col].str.replace('%', '')\n",
    "    df[col].astype('float')\n",
    "\n",
    "df[df['d_pe_ttm']<10]\n",
    "# df\n",
    "#df.info()\n",
    "#df=df[(df['d_pe_ttm_pos20']>0)&(df['d_pe_ttm_pos20']<5)].sort_values(by=['d_pe_ttm_pos20'], ascending=True)"
   ]
  },
  {
   "cell_type": "code",
   "execution_count": 18,
   "metadata": {},
   "outputs": [
    {
     "output_type": "execute_result",
     "data": {
      "text/plain": "     stockCode stockName industry  d_pe_ttm  pb_wo_gw  ps_ttm d_pe_ttm_pos20  \\\n0       000333      美的集团     家电行业     14.72      4.97    1.25         39.31%   \n1       601933      永辉超市     商业百货     76.14      4.87    1.21         92.37%   \n2       300012      华测检测     综合行业     85.22      9.09    8.49         83.65%   \n3       600809      山西汾酒     酿酒行业     43.13     11.23    7.03         53.49%   \n4       300616      尚品宅配     木业家具     30.27      4.08    1.92           4.5%   \n...        ...       ...      ...       ...       ...     ...            ...   \n3985    603995      甬金股份     材料行业     15.06      1.66    0.31         15.71%   \n3986    688258      卓易信息     软件服务    135.36      7.71   30.91          2.86%   \n3987    688218      江苏北人     专用设备     66.81      3.34    6.52          5.06%   \n3988    688198      佰仁医疗     医疗行业     74.08      5.34   31.84         46.91%   \n3989    300810      中科海讯     电子信息     38.99      4.17   13.02          8.54%   \n\n     pb_wo_gw_pos20 ps_ttm_pos20     ey          update_date fenweidianSum  \n0             57.3%        55.8%  6.52%  2020-04-21 14:22:22       152.41%  \n1            78.27%       65.37%  2.37%  2020-04-21 14:21:17       236.01%  \n2             95.7%       70.14%  2.08%  2020-04-21 14:22:16       249.49%  \n3            83.95%       64.98%  3.43%  2020-04-21 14:22:33       202.42%  \n4              4.9%        6.49%  4.55%  2020-04-21 14:22:25        15.89%  \n...             ...          ...    ...                  ...           ...  \n3985         15.71%       15.71%  9.36%  2020-04-21 14:22:25        47.14%  \n3986         11.11%       11.11%   0.7%  2020-04-21 14:22:08        25.08%  \n3987          5.06%        5.06%  1.89%  2020-04-21 14:22:15        15.19%  \n3988         46.91%       46.91%  1.22%  2020-04-21 14:22:09       140.74%  \n3989          8.54%        8.54%  2.94%  2020-04-21 14:22:13        25.61%  \n\n[3817 rows x 12 columns]",
      "text/html": "<div>\n<style scoped>\n    .dataframe tbody tr th:only-of-type {\n        vertical-align: middle;\n    }\n\n    .dataframe tbody tr th {\n        vertical-align: top;\n    }\n\n    .dataframe thead th {\n        text-align: right;\n    }\n</style>\n<table border=\"1\" class=\"dataframe\">\n  <thead>\n    <tr style=\"text-align: right;\">\n      <th></th>\n      <th>stockCode</th>\n      <th>stockName</th>\n      <th>industry</th>\n      <th>d_pe_ttm</th>\n      <th>pb_wo_gw</th>\n      <th>ps_ttm</th>\n      <th>d_pe_ttm_pos20</th>\n      <th>pb_wo_gw_pos20</th>\n      <th>ps_ttm_pos20</th>\n      <th>ey</th>\n      <th>update_date</th>\n      <th>fenweidianSum</th>\n    </tr>\n  </thead>\n  <tbody>\n    <tr>\n      <th>0</th>\n      <td>000333</td>\n      <td>美的集团</td>\n      <td>家电行业</td>\n      <td>14.72</td>\n      <td>4.97</td>\n      <td>1.25</td>\n      <td>39.31%</td>\n      <td>57.3%</td>\n      <td>55.8%</td>\n      <td>6.52%</td>\n      <td>2020-04-21 14:22:22</td>\n      <td>152.41%</td>\n    </tr>\n    <tr>\n      <th>1</th>\n      <td>601933</td>\n      <td>永辉超市</td>\n      <td>商业百货</td>\n      <td>76.14</td>\n      <td>4.87</td>\n      <td>1.21</td>\n      <td>92.37%</td>\n      <td>78.27%</td>\n      <td>65.37%</td>\n      <td>2.37%</td>\n      <td>2020-04-21 14:21:17</td>\n      <td>236.01%</td>\n    </tr>\n    <tr>\n      <th>2</th>\n      <td>300012</td>\n      <td>华测检测</td>\n      <td>综合行业</td>\n      <td>85.22</td>\n      <td>9.09</td>\n      <td>8.49</td>\n      <td>83.65%</td>\n      <td>95.7%</td>\n      <td>70.14%</td>\n      <td>2.08%</td>\n      <td>2020-04-21 14:22:16</td>\n      <td>249.49%</td>\n    </tr>\n    <tr>\n      <th>3</th>\n      <td>600809</td>\n      <td>山西汾酒</td>\n      <td>酿酒行业</td>\n      <td>43.13</td>\n      <td>11.23</td>\n      <td>7.03</td>\n      <td>53.49%</td>\n      <td>83.95%</td>\n      <td>64.98%</td>\n      <td>3.43%</td>\n      <td>2020-04-21 14:22:33</td>\n      <td>202.42%</td>\n    </tr>\n    <tr>\n      <th>4</th>\n      <td>300616</td>\n      <td>尚品宅配</td>\n      <td>木业家具</td>\n      <td>30.27</td>\n      <td>4.08</td>\n      <td>1.92</td>\n      <td>4.5%</td>\n      <td>4.9%</td>\n      <td>6.49%</td>\n      <td>4.55%</td>\n      <td>2020-04-21 14:22:25</td>\n      <td>15.89%</td>\n    </tr>\n    <tr>\n      <th>...</th>\n      <td>...</td>\n      <td>...</td>\n      <td>...</td>\n      <td>...</td>\n      <td>...</td>\n      <td>...</td>\n      <td>...</td>\n      <td>...</td>\n      <td>...</td>\n      <td>...</td>\n      <td>...</td>\n      <td>...</td>\n    </tr>\n    <tr>\n      <th>3985</th>\n      <td>603995</td>\n      <td>甬金股份</td>\n      <td>材料行业</td>\n      <td>15.06</td>\n      <td>1.66</td>\n      <td>0.31</td>\n      <td>15.71%</td>\n      <td>15.71%</td>\n      <td>15.71%</td>\n      <td>9.36%</td>\n      <td>2020-04-21 14:22:25</td>\n      <td>47.14%</td>\n    </tr>\n    <tr>\n      <th>3986</th>\n      <td>688258</td>\n      <td>卓易信息</td>\n      <td>软件服务</td>\n      <td>135.36</td>\n      <td>7.71</td>\n      <td>30.91</td>\n      <td>2.86%</td>\n      <td>11.11%</td>\n      <td>11.11%</td>\n      <td>0.7%</td>\n      <td>2020-04-21 14:22:08</td>\n      <td>25.08%</td>\n    </tr>\n    <tr>\n      <th>3987</th>\n      <td>688218</td>\n      <td>江苏北人</td>\n      <td>专用设备</td>\n      <td>66.81</td>\n      <td>3.34</td>\n      <td>6.52</td>\n      <td>5.06%</td>\n      <td>5.06%</td>\n      <td>5.06%</td>\n      <td>1.89%</td>\n      <td>2020-04-21 14:22:15</td>\n      <td>15.19%</td>\n    </tr>\n    <tr>\n      <th>3988</th>\n      <td>688198</td>\n      <td>佰仁医疗</td>\n      <td>医疗行业</td>\n      <td>74.08</td>\n      <td>5.34</td>\n      <td>31.84</td>\n      <td>46.91%</td>\n      <td>46.91%</td>\n      <td>46.91%</td>\n      <td>1.22%</td>\n      <td>2020-04-21 14:22:09</td>\n      <td>140.74%</td>\n    </tr>\n    <tr>\n      <th>3989</th>\n      <td>300810</td>\n      <td>中科海讯</td>\n      <td>电子信息</td>\n      <td>38.99</td>\n      <td>4.17</td>\n      <td>13.02</td>\n      <td>8.54%</td>\n      <td>8.54%</td>\n      <td>8.54%</td>\n      <td>2.94%</td>\n      <td>2020-04-21 14:22:13</td>\n      <td>25.61%</td>\n    </tr>\n  </tbody>\n</table>\n<p>3817 rows × 12 columns</p>\n</div>"
     },
     "metadata": {},
     "execution_count": 18
    }
   ],
   "source": [
    "\n",
    "\n",
    "\n"
   ]
  },
  {
   "cell_type": "code",
   "execution_count": null,
   "metadata": {},
   "outputs": [],
   "source": []
  }
 ],
 "metadata": {
  "language_info": {
   "name": "python",
   "codemirror_mode": {
    "name": "ipython",
    "version": 3
   },
   "version": "3.7.6-final"
  },
  "orig_nbformat": 2,
  "file_extension": ".py",
  "mimetype": "text/x-python",
  "name": "python",
  "npconvert_exporter": "python",
  "pygments_lexer": "ipython3",
  "version": 3,
  "kernelspec": {
   "name": "python3",
   "display_name": "Python 3"
  }
 },
 "nbformat": 4,
 "nbformat_minor": 2
}