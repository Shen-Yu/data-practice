{
 "cells": [
  {
   "cell_type": "code",
   "execution_count": 63,
   "metadata": {},
   "outputs": [
    {
     "output_type": "execute_result",
     "data": {
      "text/plain": "     stockCode stockName industry  ...      ey         update_date  fenweidianSum\n1116    600033      福建高速     高速公路  ...  12.11% 2020-04-29 22:27:58         14.22%\n1140    601598      中国外运     交运物流  ...   8.47% 2020-04-29 22:28:15          0.68%\n1098    600757      长江传媒     文化传媒  ...   11.3% 2020-04-29 22:28:07         30.84%\n3852    200413       东旭B     电子元件  ...  10.32% 2020-04-13 14:40:21          0.07%\n3380    600657      信达地产      房地产  ...   9.44% 2020-04-29 22:27:55          6.56%\n...        ...       ...      ...  ...     ...                 ...            ...\n1783    600307      酒钢宏兴     钢铁行业  ...   7.74% 2020-04-29 22:28:04         37.75%\n1127    000825      太钢不锈     钢铁行业  ...   8.48% 2020-04-29 22:28:09         39.82%\n221     601088      中国神华     煤炭采选  ...  16.02% 2020-04-29 22:28:01         26.92%\n1781    600350      山东高速     高速公路  ...   8.11% 2020-04-29 22:27:55         18.92%\n1308    600308      华泰股份     造纸印刷  ...  10.19% 2020-04-29 22:28:11         32.85%\n\n[155 rows x 12 columns]",
      "text/html": "<div>\n<style scoped>\n    .dataframe tbody tr th:only-of-type {\n        vertical-align: middle;\n    }\n\n    .dataframe tbody tr th {\n        vertical-align: top;\n    }\n\n    .dataframe thead th {\n        text-align: right;\n    }\n</style>\n<table border=\"1\" class=\"dataframe\">\n  <thead>\n    <tr style=\"text-align: right;\">\n      <th></th>\n      <th>stockCode</th>\n      <th>stockName</th>\n      <th>industry</th>\n      <th>d_pe_ttm</th>\n      <th>pb_wo_gw</th>\n      <th>ps_ttm</th>\n      <th>d_pe_ttm_pos20</th>\n      <th>pb_wo_gw_pos20</th>\n      <th>ps_ttm_pos20</th>\n      <th>ey</th>\n      <th>update_date</th>\n      <th>fenweidianSum</th>\n    </tr>\n  </thead>\n  <tbody>\n    <tr>\n      <th>1116</th>\n      <td>600033</td>\n      <td>福建高速</td>\n      <td>高速公路</td>\n      <td>8.74</td>\n      <td>0.79</td>\n      <td>2.59</td>\n      <td>0.00</td>\n      <td>3.71</td>\n      <td>10.51</td>\n      <td>12.11%</td>\n      <td>2020-04-29 22:27:58</td>\n      <td>14.22%</td>\n    </tr>\n    <tr>\n      <th>1140</th>\n      <td>601598</td>\n      <td>中国外运</td>\n      <td>交运物流</td>\n      <td>12.21</td>\n      <td>0.90</td>\n      <td>0.33</td>\n      <td>0.00</td>\n      <td>0.00</td>\n      <td>0.68</td>\n      <td>8.47%</td>\n      <td>2020-04-29 22:28:15</td>\n      <td>0.68%</td>\n    </tr>\n    <tr>\n      <th>1098</th>\n      <td>600757</td>\n      <td>长江传媒</td>\n      <td>文化传媒</td>\n      <td>9.83</td>\n      <td>0.89</td>\n      <td>0.77</td>\n      <td>0.02</td>\n      <td>3.07</td>\n      <td>27.75</td>\n      <td>11.3%</td>\n      <td>2020-04-29 22:28:07</td>\n      <td>30.84%</td>\n    </tr>\n    <tr>\n      <th>3852</th>\n      <td>200413</td>\n      <td>东旭B</td>\n      <td>电子元件</td>\n      <td>5.15</td>\n      <td>0.30</td>\n      <td>0.38</td>\n      <td>0.02</td>\n      <td>0.02</td>\n      <td>0.02</td>\n      <td>10.32%</td>\n      <td>2020-04-13 14:40:21</td>\n      <td>0.07%</td>\n    </tr>\n    <tr>\n      <th>3380</th>\n      <td>600657</td>\n      <td>信达地产</td>\n      <td>房地产</td>\n      <td>5.41</td>\n      <td>0.48</td>\n      <td>0.54</td>\n      <td>0.02</td>\n      <td>0.16</td>\n      <td>6.38</td>\n      <td>9.44%</td>\n      <td>2020-04-29 22:27:55</td>\n      <td>6.56%</td>\n    </tr>\n    <tr>\n      <th>...</th>\n      <td>...</td>\n      <td>...</td>\n      <td>...</td>\n      <td>...</td>\n      <td>...</td>\n      <td>...</td>\n      <td>...</td>\n      <td>...</td>\n      <td>...</td>\n      <td>...</td>\n      <td>...</td>\n      <td>...</td>\n    </tr>\n    <tr>\n      <th>1783</th>\n      <td>600307</td>\n      <td>酒钢宏兴</td>\n      <td>钢铁行业</td>\n      <td>9.14</td>\n      <td>0.91</td>\n      <td>0.24</td>\n      <td>13.95</td>\n      <td>10.05</td>\n      <td>13.75</td>\n      <td>7.74%</td>\n      <td>2020-04-29 22:28:04</td>\n      <td>37.75%</td>\n    </tr>\n    <tr>\n      <th>1127</th>\n      <td>000825</td>\n      <td>太钢不锈</td>\n      <td>钢铁行业</td>\n      <td>7.05</td>\n      <td>0.60</td>\n      <td>0.27</td>\n      <td>14.04</td>\n      <td>3.42</td>\n      <td>22.37</td>\n      <td>8.48%</td>\n      <td>2020-04-29 22:28:09</td>\n      <td>39.82%</td>\n    </tr>\n    <tr>\n      <th>221</th>\n      <td>601088</td>\n      <td>中国神华</td>\n      <td>煤炭采选</td>\n      <td>7.69</td>\n      <td>0.90</td>\n      <td>1.31</td>\n      <td>14.32</td>\n      <td>0.71</td>\n      <td>11.90</td>\n      <td>16.02%</td>\n      <td>2020-04-29 22:28:01</td>\n      <td>26.92%</td>\n    </tr>\n    <tr>\n      <th>1781</th>\n      <td>600350</td>\n      <td>山东高速</td>\n      <td>高速公路</td>\n      <td>8.38</td>\n      <td>0.71</td>\n      <td>2.52</td>\n      <td>14.41</td>\n      <td>0.23</td>\n      <td>4.28</td>\n      <td>8.11%</td>\n      <td>2020-04-29 22:27:55</td>\n      <td>18.92%</td>\n    </tr>\n    <tr>\n      <th>1308</th>\n      <td>600308</td>\n      <td>华泰股份</td>\n      <td>造纸印刷</td>\n      <td>9.93</td>\n      <td>0.63</td>\n      <td>0.36</td>\n      <td>14.76</td>\n      <td>9.49</td>\n      <td>8.59</td>\n      <td>10.19%</td>\n      <td>2020-04-29 22:28:11</td>\n      <td>32.85%</td>\n    </tr>\n  </tbody>\n</table>\n<p>155 rows × 12 columns</p>\n</div>"
     },
     "metadata": {},
     "execution_count": 63
    }
   ],
   "source": [
    "import requests\n",
    "import pandas as pd \n",
    "import numpy as np\n",
    "import requests as req\n",
    "\n",
    "\n",
    "data=req.get('http://www.06th.com/40-fenweidian-ReadDB.php?dbtbname=stockreport&search=&sort=fenweidianSum&order=asc')\n",
    "df=pd.DataFrame(data.json(),dtype = np.str)\n",
    "\n",
    "\n",
    "\n",
    "df.iloc[:,3:9].replace('%', '', inplace=True,regex=True)\n",
    "cols = df.columns.drop(['stockCode','stockName','industry','update_date'])\n",
    "df[cols]=df[cols].apply(pd.to_numeric, errors='ignore')\n",
    "df['update_date']=pd.to_datetime(df['update_date'])\n",
    "df=df[df['d_pe_ttm']!=0]\n",
    "df[(df['d_pe_ttm']<15)&(df['pb_wo_gw']<1)&(df['d_pe_ttm_pos20']<15)].sort_values('d_pe_ttm_pos20')\n",
    "\n",
    "#df=df[(df['d_pe_ttm_pos20']>0)&(df['d_pe_ttm_pos20']<5)].sort_values(by=['d_pe_ttm_pos20'], ascending=True)"
   ]
  },
  {
   "cell_type": "code",
   "execution_count": 71,
   "metadata": {},
   "outputs": [
    {
     "output_type": "execute_result",
     "data": {
      "text/plain": "array(['商业百货', '综合行业', '酿酒行业', '木业家具', '文教休闲', '汽车行业', '食品饮料', '软件服务',\n       '医疗行业', '环保工程', '电子信息', '医药制造', '纺织服装', '化工行业', '安防设备', '电子元件',\n       '珠宝首饰', '电信运营', 'åŒ–çº¤è¡Œä¸š', '券商信托', '输配电气', '通讯行业', '房地产',\n       '保险', '航天航空', '材料行业', '旅游酒店', '机械行业', '包装材料', 'é€\\xa0çº¸å\\x8d°åˆ·',\n       'è½¯ä»¶æœ\\x8dåŠ¡', '文化传媒', '专用设备', '农牧饲渔', '银行', '造纸印刷', '水泥建材',\n       '玻璃陶瓷', '化纤行业', '化肥行业', '公用事业', '农药兽药', '电力行业', '仪器仪表', '交运设备',\n       '贵金属', '煤炭采选', '交运物流', '民航机场', '有色金属', '钢铁行业', '工程建设', '石油行业',\n       None, 'æœºæ¢°è¡Œä¸š', 'é£Ÿå“\\x81é¥®æ–™', '装修装饰', '金属制品',\n       'åŒ–å·¥è¡Œä¸š', 'çººç»‡æœ\\x8dè£…', 'åŒ»è\\x8d¯åˆ¶é€\\xa0', '塑胶制品',\n       'è¾“é…\\x8dç”µæ°”', '园林工程', '船舶制造', 'ç”µå\\xad\\x90å…ƒä»¶', '国际贸易',\n       '高速公路', '港口水运', '多元金融', 'é€šè®¯è¡Œä¸š', 'é“¶è¡Œ', '工艺商品',\n       'çŸ³æ²¹è¡Œä¸š', 'ä»ªå™¨ä»ªè¡¨', 'å®¶ç”µè¡Œä¸š', 'å•†ä¸šç™¾è´§',\n       'æœ‰è‰²é‡‘å±ž', 'æ\\x9d\\x90æ–™è¡Œä¸š', 'å®‰é˜²è®¾å¤‡',\n       'å†œè\\x8d¯å…½è\\x8d¯', 'æ±½è½¦è¡Œä¸š', 'ä¸“ç”¨è®¾å¤‡',\n       'ç”µå\\xad\\x90ä¿¡æ\\x81¯', 'å†œç‰§é¥²æ¸”', 'è£…ä¿®è£…é¥°', '-'],\n      dtype=object)"
     },
     "metadata": {},
     "execution_count": 71
    }
   ],
   "source": [
    "\n",
    "# http://www.06th.com/30-xuangu-ReadDB.php?dbtbname=stockreport&search=&sort=stockScore&order=desc\n",
    "\n",
    "data2=req.get('http://www.06th.com/30-xuangu-ReadDB.php?dbtbname=stockreport&search=&sort=stockScore&order=desc')\n",
    "df2=pd.DataFrame(data2.json())\n",
    "df2=df2[~df2['industry'].isin(['家电行业'])]\n",
    "df2['industry'].unique()"
   ]
  },
  {
   "cell_type": "code",
   "execution_count": null,
   "metadata": {},
   "outputs": [],
   "source": []
  }
 ],
 "metadata": {
  "language_info": {
   "name": "python",
   "codemirror_mode": {
    "name": "ipython",
    "version": 3
   },
   "version": "3.7.6-final"
  },
  "orig_nbformat": 2,
  "file_extension": ".py",
  "mimetype": "text/x-python",
  "name": "python",
  "npconvert_exporter": "python",
  "pygments_lexer": "ipython3",
  "version": 3,
  "kernelspec": {
   "name": "python3",
   "display_name": "Python 3"
  }
 },
 "nbformat": 4,
 "nbformat_minor": 2
}