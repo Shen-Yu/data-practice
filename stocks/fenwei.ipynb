{
 "nbformat": 4,
 "nbformat_minor": 2,
 "metadata": {
  "language_info": {
   "name": "python",
   "codemirror_mode": {
    "name": "ipython",
    "version": 3
   },
   "version": "3.7.6-final"
  },
  "orig_nbformat": 2,
  "file_extension": ".py",
  "mimetype": "text/x-python",
  "name": "python",
  "npconvert_exporter": "python",
  "pygments_lexer": "ipython3",
  "version": 3,
  "kernelspec": {
   "name": "python3",
   "display_name": "Python 3"
  }
 },
 "cells": [
  {
   "cell_type": "code",
   "execution_count": 46,
   "metadata": {},
   "outputs": [
    {
     "output_type": "execute_result",
     "data": {
      "text/plain": "      stockCode stockName industry  d_pe_ttm  pb_wo_gw  ps_ttm d_pe_ttm_pos20  \\\n0           333      美的集团     家电行业     14.72      4.97    1.25         39.31%   \n1        601933      永辉超市     商业百货     76.14      4.87    1.21         92.37%   \n2        300012      华测检测     综合行业     85.22      9.09    8.49         83.65%   \n3        600809      山西汾酒     酿酒行业     43.13     11.23    7.03         53.49%   \n4        300616      尚品宅配     木业家具     30.27      4.08    1.92           4.5%   \n...         ...       ...      ...       ...       ...     ...            ...   \n4121     688318      财富趋势     None      0.00      0.00    0.00             0%   \n4122     834732      None     None      0.00      0.00    0.00             0%   \n4123     832800      None     None      0.00      0.00    0.00             0%   \n4124     832145      None     None      0.00      0.00    0.00             0%   \n4125       2983       芯瑞达     None      0.00      0.00    0.00             0%   \n\n     pb_wo_gw_pos20 ps_ttm_pos20     ey          update_date fenweidianSum  \n0             57.3%        55.8%  6.52%  2020-04-17 14:11:50       152.41%  \n1            78.27%       65.37%  2.37%  2020-04-17 14:11:47       236.01%  \n2             95.7%       70.14%  2.08%  2020-04-17 14:11:44       249.49%  \n3            83.95%       64.98%  3.43%  2020-04-17 14:11:30       202.42%  \n4              4.9%        6.49%  4.55%  2020-04-17 14:11:40        15.89%  \n...             ...          ...    ...                  ...           ...  \n4121             0%           0%     0%  2020-04-17 14:11:38            0%  \n4122             0%           0%     0%  2020-04-07 23:05:59            0%  \n4123             0%           0%     0%  2020-04-07 23:05:59            0%  \n4124             0%           0%     0%  2020-04-07 23:05:59            0%  \n4125             0%           0%     0%  2020-04-17 14:11:39            0%  \n\n[4126 rows x 12 columns]",
      "text/html": "<div>\n<style scoped>\n    .dataframe tbody tr th:only-of-type {\n        vertical-align: middle;\n    }\n\n    .dataframe tbody tr th {\n        vertical-align: top;\n    }\n\n    .dataframe thead th {\n        text-align: right;\n    }\n</style>\n<table border=\"1\" class=\"dataframe\">\n  <thead>\n    <tr style=\"text-align: right;\">\n      <th></th>\n      <th>stockCode</th>\n      <th>stockName</th>\n      <th>industry</th>\n      <th>d_pe_ttm</th>\n      <th>pb_wo_gw</th>\n      <th>ps_ttm</th>\n      <th>d_pe_ttm_pos20</th>\n      <th>pb_wo_gw_pos20</th>\n      <th>ps_ttm_pos20</th>\n      <th>ey</th>\n      <th>update_date</th>\n      <th>fenweidianSum</th>\n    </tr>\n  </thead>\n  <tbody>\n    <tr>\n      <th>0</th>\n      <td>333</td>\n      <td>美的集团</td>\n      <td>家电行业</td>\n      <td>14.72</td>\n      <td>4.97</td>\n      <td>1.25</td>\n      <td>39.31%</td>\n      <td>57.3%</td>\n      <td>55.8%</td>\n      <td>6.52%</td>\n      <td>2020-04-17 14:11:50</td>\n      <td>152.41%</td>\n    </tr>\n    <tr>\n      <th>1</th>\n      <td>601933</td>\n      <td>永辉超市</td>\n      <td>商业百货</td>\n      <td>76.14</td>\n      <td>4.87</td>\n      <td>1.21</td>\n      <td>92.37%</td>\n      <td>78.27%</td>\n      <td>65.37%</td>\n      <td>2.37%</td>\n      <td>2020-04-17 14:11:47</td>\n      <td>236.01%</td>\n    </tr>\n    <tr>\n      <th>2</th>\n      <td>300012</td>\n      <td>华测检测</td>\n      <td>综合行业</td>\n      <td>85.22</td>\n      <td>9.09</td>\n      <td>8.49</td>\n      <td>83.65%</td>\n      <td>95.7%</td>\n      <td>70.14%</td>\n      <td>2.08%</td>\n      <td>2020-04-17 14:11:44</td>\n      <td>249.49%</td>\n    </tr>\n    <tr>\n      <th>3</th>\n      <td>600809</td>\n      <td>山西汾酒</td>\n      <td>酿酒行业</td>\n      <td>43.13</td>\n      <td>11.23</td>\n      <td>7.03</td>\n      <td>53.49%</td>\n      <td>83.95%</td>\n      <td>64.98%</td>\n      <td>3.43%</td>\n      <td>2020-04-17 14:11:30</td>\n      <td>202.42%</td>\n    </tr>\n    <tr>\n      <th>4</th>\n      <td>300616</td>\n      <td>尚品宅配</td>\n      <td>木业家具</td>\n      <td>30.27</td>\n      <td>4.08</td>\n      <td>1.92</td>\n      <td>4.5%</td>\n      <td>4.9%</td>\n      <td>6.49%</td>\n      <td>4.55%</td>\n      <td>2020-04-17 14:11:40</td>\n      <td>15.89%</td>\n    </tr>\n    <tr>\n      <th>...</th>\n      <td>...</td>\n      <td>...</td>\n      <td>...</td>\n      <td>...</td>\n      <td>...</td>\n      <td>...</td>\n      <td>...</td>\n      <td>...</td>\n      <td>...</td>\n      <td>...</td>\n      <td>...</td>\n      <td>...</td>\n    </tr>\n    <tr>\n      <th>4121</th>\n      <td>688318</td>\n      <td>财富趋势</td>\n      <td>None</td>\n      <td>0.00</td>\n      <td>0.00</td>\n      <td>0.00</td>\n      <td>0%</td>\n      <td>0%</td>\n      <td>0%</td>\n      <td>0%</td>\n      <td>2020-04-17 14:11:38</td>\n      <td>0%</td>\n    </tr>\n    <tr>\n      <th>4122</th>\n      <td>834732</td>\n      <td>None</td>\n      <td>None</td>\n      <td>0.00</td>\n      <td>0.00</td>\n      <td>0.00</td>\n      <td>0%</td>\n      <td>0%</td>\n      <td>0%</td>\n      <td>0%</td>\n      <td>2020-04-07 23:05:59</td>\n      <td>0%</td>\n    </tr>\n    <tr>\n      <th>4123</th>\n      <td>832800</td>\n      <td>None</td>\n      <td>None</td>\n      <td>0.00</td>\n      <td>0.00</td>\n      <td>0.00</td>\n      <td>0%</td>\n      <td>0%</td>\n      <td>0%</td>\n      <td>0%</td>\n      <td>2020-04-07 23:05:59</td>\n      <td>0%</td>\n    </tr>\n    <tr>\n      <th>4124</th>\n      <td>832145</td>\n      <td>None</td>\n      <td>None</td>\n      <td>0.00</td>\n      <td>0.00</td>\n      <td>0.00</td>\n      <td>0%</td>\n      <td>0%</td>\n      <td>0%</td>\n      <td>0%</td>\n      <td>2020-04-07 23:05:59</td>\n      <td>0%</td>\n    </tr>\n    <tr>\n      <th>4125</th>\n      <td>2983</td>\n      <td>芯瑞达</td>\n      <td>None</td>\n      <td>0.00</td>\n      <td>0.00</td>\n      <td>0.00</td>\n      <td>0%</td>\n      <td>0%</td>\n      <td>0%</td>\n      <td>0%</td>\n      <td>2020-04-17 14:11:39</td>\n      <td>0%</td>\n    </tr>\n  </tbody>\n</table>\n<p>4126 rows × 12 columns</p>\n</div>"
     },
     "metadata": {},
     "execution_count": 46
    }
   ],
   "source": [
    "import requests\n",
    "import pandas as pd \n",
    "import matplotlib.pyplot as plt \n",
    "import import seaborn as sns\n",
    "\n",
    "df=pd.read_json('./data.json',encoding='utf-8')\n",
    "\n",
    "\n"
   ]
  }
 ]
}