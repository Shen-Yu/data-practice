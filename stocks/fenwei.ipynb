{
 "nbformat": 4,
 "nbformat_minor": 2,
 "metadata": {
  "language_info": {
   "name": "python",
   "codemirror_mode": {
    "name": "ipython",
    "version": 3
   },
   "version": "3.7.6-final"
  },
  "orig_nbformat": 2,
  "file_extension": ".py",
  "mimetype": "text/x-python",
  "name": "python",
  "npconvert_exporter": "python",
  "pygments_lexer": "ipython3",
  "version": 3,
  "kernelspec": {
   "name": "python3",
   "display_name": "Python 3"
  }
 },
 "cells": [
  {
   "cell_type": "code",
   "execution_count": 16,
   "metadata": {},
   "outputs": [
    {
     "output_type": "execute_result",
     "data": {
      "text/plain": "      stockCode stockName industry  d_pe_ttm  pb_wo_gw  ps_ttm  \\\n1822        848      承德露露     食品饮料     14.50      3.38    2.99   \n859      600643      爱建集团     多元金融     10.32      1.19    3.37   \n3370     600657      信达地产      房地产      5.41      0.48    0.54   \n1098     600757      长江传媒     文化传媒      9.83      0.89    0.77   \n3276     600727      鲁北化工     化肥行业     14.24      2.05    1.97   \n...         ...       ...      ...       ...       ...     ...   \n1783     600093      易见股份     多元金融     15.03      1.75    1.14   \n2947       2316      亚联发展     电子信息     32.07     55.03    0.65   \n2423       2790       瑞尔特     塑胶制品     16.13      1.60    2.34   \n1935     600903      贵州燃气     公用事业     66.93      4.71    3.04   \n3149        632      三木集团     综合行业     56.87      1.74    0.33   \n\n      d_pe_ttm_pos20 pb_wo_gw_pos20 ps_ttm_pos20      ey          update_date  \\\n1822            0.02         20.23%       36.52%    8.8%  2020-04-17 14:11:33   \n859             0.02          0.27%       15.93%   8.11%  2020-04-17 14:11:39   \n3370            0.02          0.16%        6.38%   9.44%  2020-04-17 14:11:37   \n1098            0.02          3.07%       27.75%   11.3%  2020-04-17 14:11:36   \n3276            0.02         64.12%        9.66%   9.97%  2020-04-17 14:11:41   \n...              ...            ...          ...     ...                  ...   \n1783            4.89         11.67%       13.68%   6.85%  2020-04-17 14:11:48   \n2947            4.90          71.4%        0.78%  10.92%  2020-04-17 14:11:47   \n2423            4.91          3.21%        2.61%   7.72%  2020-04-17 14:11:41   \n1935            4.97          6.85%        4.28%   2.74%  2020-04-17 14:11:40   \n3149            4.98         14.39%       11.17%   2.96%  2020-04-17 14:11:41   \n\n     fenweidianSum  \n1822        56.77%  \n859         16.22%  \n3370         6.56%  \n1098        30.84%  \n3276         73.8%  \n...            ...  \n1783        30.23%  \n2947        77.07%  \n2423        10.72%  \n1935         16.1%  \n3149        30.54%  \n\n[556 rows x 12 columns]",
      "text/html": "<div>\n<style scoped>\n    .dataframe tbody tr th:only-of-type {\n        vertical-align: middle;\n    }\n\n    .dataframe tbody tr th {\n        vertical-align: top;\n    }\n\n    .dataframe thead th {\n        text-align: right;\n    }\n</style>\n<table border=\"1\" class=\"dataframe\">\n  <thead>\n    <tr style=\"text-align: right;\">\n      <th></th>\n      <th>stockCode</th>\n      <th>stockName</th>\n      <th>industry</th>\n      <th>d_pe_ttm</th>\n      <th>pb_wo_gw</th>\n      <th>ps_ttm</th>\n      <th>d_pe_ttm_pos20</th>\n      <th>pb_wo_gw_pos20</th>\n      <th>ps_ttm_pos20</th>\n      <th>ey</th>\n      <th>update_date</th>\n      <th>fenweidianSum</th>\n    </tr>\n  </thead>\n  <tbody>\n    <tr>\n      <th>1822</th>\n      <td>848</td>\n      <td>承德露露</td>\n      <td>食品饮料</td>\n      <td>14.50</td>\n      <td>3.38</td>\n      <td>2.99</td>\n      <td>0.02</td>\n      <td>20.23%</td>\n      <td>36.52%</td>\n      <td>8.8%</td>\n      <td>2020-04-17 14:11:33</td>\n      <td>56.77%</td>\n    </tr>\n    <tr>\n      <th>859</th>\n      <td>600643</td>\n      <td>爱建集团</td>\n      <td>多元金融</td>\n      <td>10.32</td>\n      <td>1.19</td>\n      <td>3.37</td>\n      <td>0.02</td>\n      <td>0.27%</td>\n      <td>15.93%</td>\n      <td>8.11%</td>\n      <td>2020-04-17 14:11:39</td>\n      <td>16.22%</td>\n    </tr>\n    <tr>\n      <th>3370</th>\n      <td>600657</td>\n      <td>信达地产</td>\n      <td>房地产</td>\n      <td>5.41</td>\n      <td>0.48</td>\n      <td>0.54</td>\n      <td>0.02</td>\n      <td>0.16%</td>\n      <td>6.38%</td>\n      <td>9.44%</td>\n      <td>2020-04-17 14:11:37</td>\n      <td>6.56%</td>\n    </tr>\n    <tr>\n      <th>1098</th>\n      <td>600757</td>\n      <td>长江传媒</td>\n      <td>文化传媒</td>\n      <td>9.83</td>\n      <td>0.89</td>\n      <td>0.77</td>\n      <td>0.02</td>\n      <td>3.07%</td>\n      <td>27.75%</td>\n      <td>11.3%</td>\n      <td>2020-04-17 14:11:36</td>\n      <td>30.84%</td>\n    </tr>\n    <tr>\n      <th>3276</th>\n      <td>600727</td>\n      <td>鲁北化工</td>\n      <td>化肥行业</td>\n      <td>14.24</td>\n      <td>2.05</td>\n      <td>1.97</td>\n      <td>0.02</td>\n      <td>64.12%</td>\n      <td>9.66%</td>\n      <td>9.97%</td>\n      <td>2020-04-17 14:11:41</td>\n      <td>73.8%</td>\n    </tr>\n    <tr>\n      <th>...</th>\n      <td>...</td>\n      <td>...</td>\n      <td>...</td>\n      <td>...</td>\n      <td>...</td>\n      <td>...</td>\n      <td>...</td>\n      <td>...</td>\n      <td>...</td>\n      <td>...</td>\n      <td>...</td>\n      <td>...</td>\n    </tr>\n    <tr>\n      <th>1783</th>\n      <td>600093</td>\n      <td>易见股份</td>\n      <td>多元金融</td>\n      <td>15.03</td>\n      <td>1.75</td>\n      <td>1.14</td>\n      <td>4.89</td>\n      <td>11.67%</td>\n      <td>13.68%</td>\n      <td>6.85%</td>\n      <td>2020-04-17 14:11:48</td>\n      <td>30.23%</td>\n    </tr>\n    <tr>\n      <th>2947</th>\n      <td>2316</td>\n      <td>亚联发展</td>\n      <td>电子信息</td>\n      <td>32.07</td>\n      <td>55.03</td>\n      <td>0.65</td>\n      <td>4.90</td>\n      <td>71.4%</td>\n      <td>0.78%</td>\n      <td>10.92%</td>\n      <td>2020-04-17 14:11:47</td>\n      <td>77.07%</td>\n    </tr>\n    <tr>\n      <th>2423</th>\n      <td>2790</td>\n      <td>瑞尔特</td>\n      <td>塑胶制品</td>\n      <td>16.13</td>\n      <td>1.60</td>\n      <td>2.34</td>\n      <td>4.91</td>\n      <td>3.21%</td>\n      <td>2.61%</td>\n      <td>7.72%</td>\n      <td>2020-04-17 14:11:41</td>\n      <td>10.72%</td>\n    </tr>\n    <tr>\n      <th>1935</th>\n      <td>600903</td>\n      <td>贵州燃气</td>\n      <td>公用事业</td>\n      <td>66.93</td>\n      <td>4.71</td>\n      <td>3.04</td>\n      <td>4.97</td>\n      <td>6.85%</td>\n      <td>4.28%</td>\n      <td>2.74%</td>\n      <td>2020-04-17 14:11:40</td>\n      <td>16.1%</td>\n    </tr>\n    <tr>\n      <th>3149</th>\n      <td>632</td>\n      <td>三木集团</td>\n      <td>综合行业</td>\n      <td>56.87</td>\n      <td>1.74</td>\n      <td>0.33</td>\n      <td>4.98</td>\n      <td>14.39%</td>\n      <td>11.17%</td>\n      <td>2.96%</td>\n      <td>2020-04-17 14:11:41</td>\n      <td>30.54%</td>\n    </tr>\n  </tbody>\n</table>\n<p>556 rows × 12 columns</p>\n</div>"
     },
     "metadata": {},
     "execution_count": 16
    }
   ],
   "source": [
    "import requests\n",
    "import pandas as pd \n",
    "import numpy as np\n",
    "import matplotlib.pyplot as plt \n",
    "import seaborn as sns\n",
    "\n",
    "df=pd.read_json('./data.json',encoding='utf-8')\n",
    "\n",
    "\n",
    "df['d_pe_ttm_pos20']=df['d_pe_ttm_pos20'].str.replace('%','').astype(np.float64)\n",
    "\n",
    "df[(df['d_pe_ttm_pos20']>0)&(df['d_pe_ttm_pos20']<5)].sort_values(by=['d_pe_ttm_pos20'], ascending=True)"
   ]
  }
 ]
}