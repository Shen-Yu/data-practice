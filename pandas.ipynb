{
 "nbformat": 4,
 "nbformat_minor": 2,
 "metadata": {
  "language_info": {
   "name": "python",
   "codemirror_mode": {
    "name": "ipython",
    "version": 3
   },
   "version": "3.7.6-final"
  },
  "orig_nbformat": 2,
  "file_extension": ".py",
  "mimetype": "text/x-python",
  "name": "python",
  "npconvert_exporter": "python",
  "pygments_lexer": "ipython3",
  "version": 3,
  "kernelspec": {
   "name": "python3",
   "display_name": "Python 3"
  }
 },
 "cells": [
  {
   "cell_type": "code",
   "execution_count": 73,
   "metadata": {},
   "outputs": [
    {
     "output_type": "execute_result",
     "data": {
      "text/plain": "          一         二         三\n1  0.427594  0.073627  0.713582\n2  0.518571  0.801544  0.404633\n3  0.219637  0.610933  0.973216\n4  0.745773  0.089611  0.555990\n5  0.302448  0.532653  0.942937\n6  0.290133  0.905438  0.805206",
      "text/html": "<div>\n<style scoped>\n    .dataframe tbody tr th:only-of-type {\n        vertical-align: middle;\n    }\n\n    .dataframe tbody tr th {\n        vertical-align: top;\n    }\n\n    .dataframe thead th {\n        text-align: right;\n    }\n</style>\n<table border=\"1\" class=\"dataframe\">\n  <thead>\n    <tr style=\"text-align: right;\">\n      <th></th>\n      <th>一</th>\n      <th>二</th>\n      <th>三</th>\n    </tr>\n  </thead>\n  <tbody>\n    <tr>\n      <th>1</th>\n      <td>0.427594</td>\n      <td>0.073627</td>\n      <td>0.713582</td>\n    </tr>\n    <tr>\n      <th>2</th>\n      <td>0.518571</td>\n      <td>0.801544</td>\n      <td>0.404633</td>\n    </tr>\n    <tr>\n      <th>3</th>\n      <td>0.219637</td>\n      <td>0.610933</td>\n      <td>0.973216</td>\n    </tr>\n    <tr>\n      <th>4</th>\n      <td>0.745773</td>\n      <td>0.089611</td>\n      <td>0.555990</td>\n    </tr>\n    <tr>\n      <th>5</th>\n      <td>0.302448</td>\n      <td>0.532653</td>\n      <td>0.942937</td>\n    </tr>\n    <tr>\n      <th>6</th>\n      <td>0.290133</td>\n      <td>0.905438</td>\n      <td>0.805206</td>\n    </tr>\n  </tbody>\n</table>\n</div>"
     },
     "metadata": {},
     "execution_count": 73
    }
   ],
   "source": [
    "import pandas as pd\n",
    "import numpy as np\n",
    "from matplotlib import pyplot as plt\n",
    "\n",
    "\n",
    "# 生成dataframe\n",
    "df1=pd.DataFrame(np.random.rand(6,3), index=list([1,2,3,4,5,6]),columns=list('一二三'))\n",
    "# df2=pd.DataFrame(np)\n",
    "df=df1\n",
    "df"
   ]
  },
  {
   "cell_type": "code",
   "execution_count": 78,
   "metadata": {},
   "outputs": [
    {
     "output_type": "execute_result",
     "data": {
      "text/plain": "       aa_s      bb_s      cc_s\n1  0.427594  0.073627  0.713582\n2  0.518571  0.801544  0.404633\n3  0.219637  0.610933  0.973216\n4  0.745773  0.089611  0.555990\n5  0.302448  0.532653  0.942937\n6  0.290133  0.905438  0.805206",
      "text/html": "<div>\n<style scoped>\n    .dataframe tbody tr th:only-of-type {\n        vertical-align: middle;\n    }\n\n    .dataframe tbody tr th {\n        vertical-align: top;\n    }\n\n    .dataframe thead th {\n        text-align: right;\n    }\n</style>\n<table border=\"1\" class=\"dataframe\">\n  <thead>\n    <tr style=\"text-align: right;\">\n      <th></th>\n      <th>aa_s</th>\n      <th>bb_s</th>\n      <th>cc_s</th>\n    </tr>\n  </thead>\n  <tbody>\n    <tr>\n      <th>1</th>\n      <td>0.427594</td>\n      <td>0.073627</td>\n      <td>0.713582</td>\n    </tr>\n    <tr>\n      <th>2</th>\n      <td>0.518571</td>\n      <td>0.801544</td>\n      <td>0.404633</td>\n    </tr>\n    <tr>\n      <th>3</th>\n      <td>0.219637</td>\n      <td>0.610933</td>\n      <td>0.973216</td>\n    </tr>\n    <tr>\n      <th>4</th>\n      <td>0.745773</td>\n      <td>0.089611</td>\n      <td>0.555990</td>\n    </tr>\n    <tr>\n      <th>5</th>\n      <td>0.302448</td>\n      <td>0.532653</td>\n      <td>0.942937</td>\n    </tr>\n    <tr>\n      <th>6</th>\n      <td>0.290133</td>\n      <td>0.905438</td>\n      <td>0.805206</td>\n    </tr>\n  </tbody>\n</table>\n</div>"
     },
     "metadata": {},
     "execution_count": 78
    }
   ],
   "source": [
    "# 重命名\n",
    "df.rename({'一':'cc'},axis='columns')\n",
    "df.columns=['aa','bb','cc']\n",
    "df=df.add_suffix('_s')\n",
    "df"
   ]
  },
  {
   "cell_type": "code",
   "execution_count": 79,
   "metadata": {},
   "outputs": [
    {
     "output_type": "execute_result",
     "data": {
      "text/plain": "       aa_s      bb_s      cc_s\n6  0.290133  0.905438  0.805206\n5  0.302448  0.532653  0.942937\n4  0.745773  0.089611  0.555990\n3  0.219637  0.610933  0.973216\n2  0.518571  0.801544  0.404633\n1  0.427594  0.073627  0.713582",
      "text/html": "<div>\n<style scoped>\n    .dataframe tbody tr th:only-of-type {\n        vertical-align: middle;\n    }\n\n    .dataframe tbody tr th {\n        vertical-align: top;\n    }\n\n    .dataframe thead th {\n        text-align: right;\n    }\n</style>\n<table border=\"1\" class=\"dataframe\">\n  <thead>\n    <tr style=\"text-align: right;\">\n      <th></th>\n      <th>aa_s</th>\n      <th>bb_s</th>\n      <th>cc_s</th>\n    </tr>\n  </thead>\n  <tbody>\n    <tr>\n      <th>6</th>\n      <td>0.290133</td>\n      <td>0.905438</td>\n      <td>0.805206</td>\n    </tr>\n    <tr>\n      <th>5</th>\n      <td>0.302448</td>\n      <td>0.532653</td>\n      <td>0.942937</td>\n    </tr>\n    <tr>\n      <th>4</th>\n      <td>0.745773</td>\n      <td>0.089611</td>\n      <td>0.555990</td>\n    </tr>\n    <tr>\n      <th>3</th>\n      <td>0.219637</td>\n      <td>0.610933</td>\n      <td>0.973216</td>\n    </tr>\n    <tr>\n      <th>2</th>\n      <td>0.518571</td>\n      <td>0.801544</td>\n      <td>0.404633</td>\n    </tr>\n    <tr>\n      <th>1</th>\n      <td>0.427594</td>\n      <td>0.073627</td>\n      <td>0.713582</td>\n    </tr>\n  </tbody>\n</table>\n</div>"
     },
     "metadata": {},
     "execution_count": 79
    }
   ],
   "source": [
    "# 选取行和列\n",
    "df['aa_s']\n",
    "df.iloc[[1]]\n",
    "df.loc[::-1]"
   ]
  },
  {
   "cell_type": "code",
   "execution_count": 76,
   "metadata": {},
   "outputs": [
    {
     "output_type": "execute_result",
     "data": {
      "text/plain": "          一         二         三\n0  0.427594  0.073627  0.713582\n1  0.518571  0.801544  0.404633\n2  0.219637  0.610933  0.973216\n3  0.745773  0.089611  0.555990\n4  0.302448  0.532653  0.942937\n5  0.290133  0.905438  0.805206",
      "text/html": "<div>\n<style scoped>\n    .dataframe tbody tr th:only-of-type {\n        vertical-align: middle;\n    }\n\n    .dataframe tbody tr th {\n        vertical-align: top;\n    }\n\n    .dataframe thead th {\n        text-align: right;\n    }\n</style>\n<table border=\"1\" class=\"dataframe\">\n  <thead>\n    <tr style=\"text-align: right;\">\n      <th></th>\n      <th>一</th>\n      <th>二</th>\n      <th>三</th>\n    </tr>\n  </thead>\n  <tbody>\n    <tr>\n      <th>0</th>\n      <td>0.427594</td>\n      <td>0.073627</td>\n      <td>0.713582</td>\n    </tr>\n    <tr>\n      <th>1</th>\n      <td>0.518571</td>\n      <td>0.801544</td>\n      <td>0.404633</td>\n    </tr>\n    <tr>\n      <th>2</th>\n      <td>0.219637</td>\n      <td>0.610933</td>\n      <td>0.973216</td>\n    </tr>\n    <tr>\n      <th>3</th>\n      <td>0.745773</td>\n      <td>0.089611</td>\n      <td>0.555990</td>\n    </tr>\n    <tr>\n      <th>4</th>\n      <td>0.302448</td>\n      <td>0.532653</td>\n      <td>0.942937</td>\n    </tr>\n    <tr>\n      <th>5</th>\n      <td>0.290133</td>\n      <td>0.905438</td>\n      <td>0.805206</td>\n    </tr>\n  </tbody>\n</table>\n</div>"
     },
     "metadata": {},
     "execution_count": 76
    }
   ],
   "source": [
    "# 重置index\n",
    "df.reset_index(drop=1)"
   ]
  },
  {
   "cell_type": "code",
   "execution_count": 77,
   "metadata": {},
   "outputs": [
    {
     "output_type": "execute_result",
     "data": {
      "text/plain": "          一         二         三\n1  0.427594  0.073627  0.713582\n2  0.518571  0.801544  0.404633\n3  0.219637  0.610933  0.973216\n4  0.745773  0.089611  0.555990\n5  0.302448  0.532653  0.942937\n6  0.290133  0.905438  0.805206",
      "text/html": "<div>\n<style scoped>\n    .dataframe tbody tr th:only-of-type {\n        vertical-align: middle;\n    }\n\n    .dataframe tbody tr th {\n        vertical-align: top;\n    }\n\n    .dataframe thead th {\n        text-align: right;\n    }\n</style>\n<table border=\"1\" class=\"dataframe\">\n  <thead>\n    <tr style=\"text-align: right;\">\n      <th></th>\n      <th>一</th>\n      <th>二</th>\n      <th>三</th>\n    </tr>\n  </thead>\n  <tbody>\n    <tr>\n      <th>1</th>\n      <td>0.427594</td>\n      <td>0.073627</td>\n      <td>0.713582</td>\n    </tr>\n    <tr>\n      <th>2</th>\n      <td>0.518571</td>\n      <td>0.801544</td>\n      <td>0.404633</td>\n    </tr>\n    <tr>\n      <th>3</th>\n      <td>0.219637</td>\n      <td>0.610933</td>\n      <td>0.973216</td>\n    </tr>\n    <tr>\n      <th>4</th>\n      <td>0.745773</td>\n      <td>0.089611</td>\n      <td>0.555990</td>\n    </tr>\n    <tr>\n      <th>5</th>\n      <td>0.302448</td>\n      <td>0.532653</td>\n      <td>0.942937</td>\n    </tr>\n    <tr>\n      <th>6</th>\n      <td>0.290133</td>\n      <td>0.905438</td>\n      <td>0.805206</td>\n    </tr>\n  </tbody>\n</table>\n</div>"
     },
     "metadata": {},
     "execution_count": 77
    }
   ],
   "source": [
    "# 按数据类型选择列\n",
    "df.dtypes\n",
    "df.select_dtypes(include='number')"
   ]
  },
  {
   "cell_type": "code",
   "execution_count": 87,
   "metadata": {},
   "outputs": [
    {
     "output_type": "stream",
     "name": "stdout",
     "text": "<class 'pandas.core.frame.DataFrame'>\nRangeIndex: 205 entries, 0 to 204\nData columns (total 3 columns):\n #   Column             Non-Null Count  Dtype \n---  ------             --------------  ----- \n 0   symboling          205 non-null    int64 \n 1   normalized_losses  205 non-null    object\n 2   make               205 non-null    object\ndtypes: int64(1), object(2)\nmemory usage: 4.9+ KB\n"
    }
   ],
   "source": [
    "# 缩减占用内存\n",
    "headers = [\"symboling\", \"normalized_losses\", \"make\", \"fuel_type\", \"aspiration\",\n",
    "           \"num_doors\", \"body_style\", \"drive_wheels\", \"engine_location\",\n",
    "           \"wheel_base\", \"length\", \"width\", \"height\", \"curb_weight\",\n",
    "           \"engine_type\", \"num_cylinders\", \"engine_size\", \"fuel_system\",\n",
    "           \"bore\", \"stroke\", \"compression_ratio\", \"horsepower\", \"peak_rpm\",\n",
    "           \"city_mpg\", \"highway_mpg\", \"price\"]\n",
    "cols=[\"symboling\", \"normalized_losses\", \"make\"]\n",
    "data=pd.read_csv(\"http://mlr.cs.umass.edu/ml/machine-learning-databases/autos/imports-85.data\",header=None,names=headers,usecols=cols)\n",
    "data.info()"
   ]
  },
  {
   "cell_type": "code",
   "execution_count": 95,
   "metadata": {},
   "outputs": [
    {
     "output_type": "execute_result",
     "data": {
      "text/plain": "Index              128\nProvince/State    2104\nCountry/Region    2104\nLat               2104\nLong              2104\n                  ... \n4/4/20            2104\n4/5/20            2104\n4/6/20            2104\n4/7/20            2104\n4/8/20            2104\nLength: 83, dtype: int64"
     },
     "metadata": {},
     "execution_count": 95
    }
   ],
   "source": [
    "# 从表格中读取\n",
    "csv=pd.read_csv('./1.csv')\n",
    "csv.memory_usage()"
   ]
  }
 ]
}